{
 "cells": [
  {
   "cell_type": "markdown",
   "id": "a16c0d09-b9a7-4850-9e40-45c85d711202",
   "metadata": {},
   "source": [
    "# 6.1 Sourcing Open Data"
   ]
  },
  {
   "cell_type": "markdown",
   "id": "54488090-1c53-4718-9907-68141283346d",
   "metadata": {},
   "source": [
    "### This script contains the following:\n",
    "\n",
    "#### 1. Importing Visualization Libraries and Data\n",
    "#### 2. Data Cleaning\n",
    "#### 3. Data Exploration"
   ]
  },
  {
   "cell_type": "markdown",
   "id": "0c4caea0-b447-4f26-90e1-9bca590806bc",
   "metadata": {},
   "source": [
    "### 1. Importing Visualization Libraries and Data"
   ]
  },
  {
   "cell_type": "code",
   "execution_count": 1,
   "id": "ad732625-6349-48e3-b493-57091f7f44c8",
   "metadata": {},
   "outputs": [],
   "source": [
    "import pandas as pd\n",
    "import numpy as np\n",
    "import seaborn as sns\n",
    "import matplotlib.pyplot as plt\n",
    "import matplotlib\n",
    "import os\n",
    "import warnings\n",
    "warnings.filterwarnings('ignore')"
   ]
  },
  {
   "cell_type": "code",
   "execution_count": 93,
   "id": "aa70bfa6-c539-4d0b-93e5-e609c856d7c5",
   "metadata": {},
   "outputs": [],
   "source": [
    "df = pd.read_csv('/Users/selcenayranci/Desktop/NYC-Airbnb-2023.csv')"
   ]
  },
  {
   "cell_type": "code",
   "execution_count": 14,
   "id": "99ffe554-238a-45ce-b895-1afc12ede556",
   "metadata": {},
   "outputs": [
    {
     "data": {
      "text/html": [
       "<div>\n",
       "<style scoped>\n",
       "    .dataframe tbody tr th:only-of-type {\n",
       "        vertical-align: middle;\n",
       "    }\n",
       "\n",
       "    .dataframe tbody tr th {\n",
       "        vertical-align: top;\n",
       "    }\n",
       "\n",
       "    .dataframe thead th {\n",
       "        text-align: right;\n",
       "    }\n",
       "</style>\n",
       "<table border=\"1\" class=\"dataframe\">\n",
       "  <thead>\n",
       "    <tr style=\"text-align: right;\">\n",
       "      <th></th>\n",
       "      <th>id</th>\n",
       "      <th>name</th>\n",
       "      <th>host_id</th>\n",
       "      <th>host_name</th>\n",
       "      <th>neighbourhood_group</th>\n",
       "      <th>neighbourhood</th>\n",
       "      <th>latitude</th>\n",
       "      <th>longitude</th>\n",
       "      <th>room_type</th>\n",
       "      <th>price</th>\n",
       "      <th>minimum_nights</th>\n",
       "      <th>number_of_reviews</th>\n",
       "      <th>last_review</th>\n",
       "      <th>reviews_per_month</th>\n",
       "      <th>calculated_host_listings_count</th>\n",
       "      <th>availability_365</th>\n",
       "      <th>number_of_reviews_ltm</th>\n",
       "      <th>license</th>\n",
       "    </tr>\n",
       "  </thead>\n",
       "  <tbody>\n",
       "    <tr>\n",
       "      <th>0</th>\n",
       "      <td>2595</td>\n",
       "      <td>Skylit Midtown Castle</td>\n",
       "      <td>2845</td>\n",
       "      <td>Jennifer</td>\n",
       "      <td>Manhattan</td>\n",
       "      <td>Midtown</td>\n",
       "      <td>40.75356</td>\n",
       "      <td>-73.98559</td>\n",
       "      <td>Entire home/apt</td>\n",
       "      <td>150</td>\n",
       "      <td>30</td>\n",
       "      <td>49</td>\n",
       "      <td>2022-06-21</td>\n",
       "      <td>0.30</td>\n",
       "      <td>3</td>\n",
       "      <td>314</td>\n",
       "      <td>1</td>\n",
       "      <td>NaN</td>\n",
       "    </tr>\n",
       "    <tr>\n",
       "      <th>1</th>\n",
       "      <td>5121</td>\n",
       "      <td>BlissArtsSpace!</td>\n",
       "      <td>7356</td>\n",
       "      <td>Garon</td>\n",
       "      <td>Brooklyn</td>\n",
       "      <td>Bedford-Stuyvesant</td>\n",
       "      <td>40.68535</td>\n",
       "      <td>-73.95512</td>\n",
       "      <td>Private room</td>\n",
       "      <td>60</td>\n",
       "      <td>30</td>\n",
       "      <td>50</td>\n",
       "      <td>2019-12-02</td>\n",
       "      <td>0.30</td>\n",
       "      <td>2</td>\n",
       "      <td>365</td>\n",
       "      <td>0</td>\n",
       "      <td>NaN</td>\n",
       "    </tr>\n",
       "    <tr>\n",
       "      <th>2</th>\n",
       "      <td>5203</td>\n",
       "      <td>Cozy Clean Guest Room - Family Apt</td>\n",
       "      <td>7490</td>\n",
       "      <td>MaryEllen</td>\n",
       "      <td>Manhattan</td>\n",
       "      <td>Upper West Side</td>\n",
       "      <td>40.80380</td>\n",
       "      <td>-73.96751</td>\n",
       "      <td>Private room</td>\n",
       "      <td>75</td>\n",
       "      <td>2</td>\n",
       "      <td>118</td>\n",
       "      <td>2017-07-21</td>\n",
       "      <td>0.72</td>\n",
       "      <td>1</td>\n",
       "      <td>0</td>\n",
       "      <td>0</td>\n",
       "      <td>NaN</td>\n",
       "    </tr>\n",
       "    <tr>\n",
       "      <th>3</th>\n",
       "      <td>5178</td>\n",
       "      <td>Large Furnished Room Near B'way</td>\n",
       "      <td>8967</td>\n",
       "      <td>Shunichi</td>\n",
       "      <td>Manhattan</td>\n",
       "      <td>Midtown</td>\n",
       "      <td>40.76457</td>\n",
       "      <td>-73.98317</td>\n",
       "      <td>Private room</td>\n",
       "      <td>68</td>\n",
       "      <td>2</td>\n",
       "      <td>575</td>\n",
       "      <td>2023-02-19</td>\n",
       "      <td>3.41</td>\n",
       "      <td>1</td>\n",
       "      <td>106</td>\n",
       "      <td>52</td>\n",
       "      <td>NaN</td>\n",
       "    </tr>\n",
       "    <tr>\n",
       "      <th>4</th>\n",
       "      <td>5136</td>\n",
       "      <td>Large Sunny Brooklyn Duplex, Patio + Garden</td>\n",
       "      <td>7378</td>\n",
       "      <td>Rebecca</td>\n",
       "      <td>Brooklyn</td>\n",
       "      <td>Sunset Park</td>\n",
       "      <td>40.66265</td>\n",
       "      <td>-73.99454</td>\n",
       "      <td>Entire home/apt</td>\n",
       "      <td>275</td>\n",
       "      <td>60</td>\n",
       "      <td>3</td>\n",
       "      <td>2022-08-10</td>\n",
       "      <td>0.03</td>\n",
       "      <td>1</td>\n",
       "      <td>181</td>\n",
       "      <td>1</td>\n",
       "      <td>NaN</td>\n",
       "    </tr>\n",
       "  </tbody>\n",
       "</table>\n",
       "</div>"
      ],
      "text/plain": [
       "     id                                         name  host_id  host_name  \\\n",
       "0  2595                        Skylit Midtown Castle     2845   Jennifer   \n",
       "1  5121                              BlissArtsSpace!     7356      Garon   \n",
       "2  5203           Cozy Clean Guest Room - Family Apt     7490  MaryEllen   \n",
       "3  5178             Large Furnished Room Near B'way　     8967   Shunichi   \n",
       "4  5136  Large Sunny Brooklyn Duplex, Patio + Garden     7378    Rebecca   \n",
       "\n",
       "  neighbourhood_group       neighbourhood  latitude  longitude  \\\n",
       "0           Manhattan             Midtown  40.75356  -73.98559   \n",
       "1            Brooklyn  Bedford-Stuyvesant  40.68535  -73.95512   \n",
       "2           Manhattan     Upper West Side  40.80380  -73.96751   \n",
       "3           Manhattan             Midtown  40.76457  -73.98317   \n",
       "4            Brooklyn         Sunset Park  40.66265  -73.99454   \n",
       "\n",
       "         room_type  price  minimum_nights  number_of_reviews last_review  \\\n",
       "0  Entire home/apt    150              30                 49  2022-06-21   \n",
       "1     Private room     60              30                 50  2019-12-02   \n",
       "2     Private room     75               2                118  2017-07-21   \n",
       "3     Private room     68               2                575  2023-02-19   \n",
       "4  Entire home/apt    275              60                  3  2022-08-10   \n",
       "\n",
       "   reviews_per_month  calculated_host_listings_count  availability_365  \\\n",
       "0               0.30                               3               314   \n",
       "1               0.30                               2               365   \n",
       "2               0.72                               1                 0   \n",
       "3               3.41                               1               106   \n",
       "4               0.03                               1               181   \n",
       "\n",
       "   number_of_reviews_ltm license  \n",
       "0                      1     NaN  \n",
       "1                      0     NaN  \n",
       "2                      0     NaN  \n",
       "3                     52     NaN  \n",
       "4                      1     NaN  "
      ]
     },
     "execution_count": 14,
     "metadata": {},
     "output_type": "execute_result"
    }
   ],
   "source": [
    "df.head()"
   ]
  },
  {
   "cell_type": "code",
   "execution_count": 15,
   "id": "d57cc4ac-d116-4144-8580-2d44c42afca3",
   "metadata": {},
   "outputs": [
    {
     "data": {
      "text/plain": [
       "(42931, 18)"
      ]
     },
     "execution_count": 15,
     "metadata": {},
     "output_type": "execute_result"
    }
   ],
   "source": [
    "df.shape"
   ]
  },
  {
   "cell_type": "markdown",
   "id": "eade2459-e390-4d95-a544-35afb58efa17",
   "metadata": {},
   "source": [
    "### 2. Data Cleaning"
   ]
  },
  {
   "cell_type": "code",
   "execution_count": 16,
   "id": "f1853d35-1c29-4ee6-8405-0f502c8cd72a",
   "metadata": {},
   "outputs": [
    {
     "data": {
      "text/plain": [
       "id                                  int64\n",
       "name                               object\n",
       "host_id                             int64\n",
       "host_name                          object\n",
       "neighbourhood_group                object\n",
       "neighbourhood                      object\n",
       "latitude                          float64\n",
       "longitude                         float64\n",
       "room_type                          object\n",
       "price                               int64\n",
       "minimum_nights                      int64\n",
       "number_of_reviews                   int64\n",
       "last_review                        object\n",
       "reviews_per_month                 float64\n",
       "calculated_host_listings_count      int64\n",
       "availability_365                    int64\n",
       "number_of_reviews_ltm               int64\n",
       "license                            object\n",
       "dtype: object"
      ]
     },
     "execution_count": 16,
     "metadata": {},
     "output_type": "execute_result"
    }
   ],
   "source": [
    "# Checking the data types\n",
    "\n",
    "df.dtypes"
   ]
  },
  {
   "cell_type": "code",
   "execution_count": 17,
   "id": "5dc0463e-c3e3-4804-ab5b-dbf6540f33f3",
   "metadata": {},
   "outputs": [
    {
     "data": {
      "text/html": [
       "<div>\n",
       "<style scoped>\n",
       "    .dataframe tbody tr th:only-of-type {\n",
       "        vertical-align: middle;\n",
       "    }\n",
       "\n",
       "    .dataframe tbody tr th {\n",
       "        vertical-align: top;\n",
       "    }\n",
       "\n",
       "    .dataframe thead th {\n",
       "        text-align: right;\n",
       "    }\n",
       "</style>\n",
       "<table border=\"1\" class=\"dataframe\">\n",
       "  <thead>\n",
       "    <tr style=\"text-align: right;\">\n",
       "      <th></th>\n",
       "      <th>id</th>\n",
       "      <th>host_id</th>\n",
       "      <th>latitude</th>\n",
       "      <th>longitude</th>\n",
       "      <th>price</th>\n",
       "      <th>minimum_nights</th>\n",
       "      <th>number_of_reviews</th>\n",
       "      <th>reviews_per_month</th>\n",
       "      <th>calculated_host_listings_count</th>\n",
       "      <th>availability_365</th>\n",
       "      <th>number_of_reviews_ltm</th>\n",
       "    </tr>\n",
       "  </thead>\n",
       "  <tbody>\n",
       "    <tr>\n",
       "      <th>count</th>\n",
       "      <td>4.293100e+04</td>\n",
       "      <td>4.293100e+04</td>\n",
       "      <td>42931.000000</td>\n",
       "      <td>42931.000000</td>\n",
       "      <td>42931.000000</td>\n",
       "      <td>42931.000000</td>\n",
       "      <td>42931.000000</td>\n",
       "      <td>32627.000000</td>\n",
       "      <td>42931.000000</td>\n",
       "      <td>42931.000000</td>\n",
       "      <td>42931.000000</td>\n",
       "    </tr>\n",
       "    <tr>\n",
       "      <th>mean</th>\n",
       "      <td>2.222772e+17</td>\n",
       "      <td>1.516012e+08</td>\n",
       "      <td>40.728273</td>\n",
       "      <td>-73.943665</td>\n",
       "      <td>200.307167</td>\n",
       "      <td>18.111178</td>\n",
       "      <td>25.856001</td>\n",
       "      <td>1.168988</td>\n",
       "      <td>24.054809</td>\n",
       "      <td>140.262211</td>\n",
       "      <td>7.736507</td>\n",
       "    </tr>\n",
       "    <tr>\n",
       "      <th>std</th>\n",
       "      <td>3.344213e+17</td>\n",
       "      <td>1.621301e+08</td>\n",
       "      <td>0.057640</td>\n",
       "      <td>0.056627</td>\n",
       "      <td>895.082911</td>\n",
       "      <td>27.462513</td>\n",
       "      <td>56.616344</td>\n",
       "      <td>1.789675</td>\n",
       "      <td>80.867958</td>\n",
       "      <td>142.001486</td>\n",
       "      <td>18.290256</td>\n",
       "    </tr>\n",
       "    <tr>\n",
       "      <th>min</th>\n",
       "      <td>2.595000e+03</td>\n",
       "      <td>1.678000e+03</td>\n",
       "      <td>40.500314</td>\n",
       "      <td>-74.251907</td>\n",
       "      <td>0.000000</td>\n",
       "      <td>1.000000</td>\n",
       "      <td>0.000000</td>\n",
       "      <td>0.010000</td>\n",
       "      <td>1.000000</td>\n",
       "      <td>0.000000</td>\n",
       "      <td>0.000000</td>\n",
       "    </tr>\n",
       "    <tr>\n",
       "      <th>25%</th>\n",
       "      <td>1.940474e+07</td>\n",
       "      <td>1.608533e+07</td>\n",
       "      <td>40.687485</td>\n",
       "      <td>-73.981750</td>\n",
       "      <td>75.000000</td>\n",
       "      <td>2.000000</td>\n",
       "      <td>1.000000</td>\n",
       "      <td>0.140000</td>\n",
       "      <td>1.000000</td>\n",
       "      <td>0.000000</td>\n",
       "      <td>0.000000</td>\n",
       "    </tr>\n",
       "    <tr>\n",
       "      <th>50%</th>\n",
       "      <td>4.337482e+07</td>\n",
       "      <td>7.433812e+07</td>\n",
       "      <td>40.724040</td>\n",
       "      <td>-73.952620</td>\n",
       "      <td>125.000000</td>\n",
       "      <td>7.000000</td>\n",
       "      <td>5.000000</td>\n",
       "      <td>0.520000</td>\n",
       "      <td>1.000000</td>\n",
       "      <td>89.000000</td>\n",
       "      <td>0.000000</td>\n",
       "    </tr>\n",
       "    <tr>\n",
       "      <th>75%</th>\n",
       "      <td>6.305016e+17</td>\n",
       "      <td>2.680692e+08</td>\n",
       "      <td>40.762293</td>\n",
       "      <td>-73.924035</td>\n",
       "      <td>200.000000</td>\n",
       "      <td>30.000000</td>\n",
       "      <td>24.000000</td>\n",
       "      <td>1.670000</td>\n",
       "      <td>4.000000</td>\n",
       "      <td>289.000000</td>\n",
       "      <td>7.000000</td>\n",
       "    </tr>\n",
       "    <tr>\n",
       "      <th>max</th>\n",
       "      <td>8.404660e+17</td>\n",
       "      <td>5.038729e+08</td>\n",
       "      <td>40.911380</td>\n",
       "      <td>-73.710870</td>\n",
       "      <td>99000.000000</td>\n",
       "      <td>1250.000000</td>\n",
       "      <td>1842.000000</td>\n",
       "      <td>86.610000</td>\n",
       "      <td>526.000000</td>\n",
       "      <td>365.000000</td>\n",
       "      <td>1093.000000</td>\n",
       "    </tr>\n",
       "  </tbody>\n",
       "</table>\n",
       "</div>"
      ],
      "text/plain": [
       "                 id       host_id      latitude     longitude         price  \\\n",
       "count  4.293100e+04  4.293100e+04  42931.000000  42931.000000  42931.000000   \n",
       "mean   2.222772e+17  1.516012e+08     40.728273    -73.943665    200.307167   \n",
       "std    3.344213e+17  1.621301e+08      0.057640      0.056627    895.082911   \n",
       "min    2.595000e+03  1.678000e+03     40.500314    -74.251907      0.000000   \n",
       "25%    1.940474e+07  1.608533e+07     40.687485    -73.981750     75.000000   \n",
       "50%    4.337482e+07  7.433812e+07     40.724040    -73.952620    125.000000   \n",
       "75%    6.305016e+17  2.680692e+08     40.762293    -73.924035    200.000000   \n",
       "max    8.404660e+17  5.038729e+08     40.911380    -73.710870  99000.000000   \n",
       "\n",
       "       minimum_nights  number_of_reviews  reviews_per_month  \\\n",
       "count    42931.000000       42931.000000       32627.000000   \n",
       "mean        18.111178          25.856001           1.168988   \n",
       "std         27.462513          56.616344           1.789675   \n",
       "min          1.000000           0.000000           0.010000   \n",
       "25%          2.000000           1.000000           0.140000   \n",
       "50%          7.000000           5.000000           0.520000   \n",
       "75%         30.000000          24.000000           1.670000   \n",
       "max       1250.000000        1842.000000          86.610000   \n",
       "\n",
       "       calculated_host_listings_count  availability_365  number_of_reviews_ltm  \n",
       "count                    42931.000000      42931.000000           42931.000000  \n",
       "mean                        24.054809        140.262211               7.736507  \n",
       "std                         80.867958        142.001486              18.290256  \n",
       "min                          1.000000          0.000000               0.000000  \n",
       "25%                          1.000000          0.000000               0.000000  \n",
       "50%                          1.000000         89.000000               0.000000  \n",
       "75%                          4.000000        289.000000               7.000000  \n",
       "max                        526.000000        365.000000            1093.000000  "
      ]
     },
     "execution_count": 17,
     "metadata": {},
     "output_type": "execute_result"
    }
   ],
   "source": [
    "# Descriptive Analysis\n",
    "\n",
    "df.describe()"
   ]
  },
  {
   "cell_type": "markdown",
   "id": "eca248ad-f841-40f3-9cde-a18a37091438",
   "metadata": {},
   "source": [
    "##### There are some suspicious values we can detect here:\n",
    "\n",
    "##### For example 'price' column has min 0 which is impossible. The max value is also seems very high based on the 75% of the values are less than 200$. There are possibly outliers.\n",
    "\n",
    "##### Another column that needs attention is the 'minimum_nights' column. 75% of the values are less than 30 days but the max value is 1250 days which indicates some outliers.  \n",
    "\n",
    "##### These columns will be analyzed in detail later in Data Exploration section. "
   ]
  },
  {
   "cell_type": "code",
   "execution_count": 18,
   "id": "7cb285cc-d866-4130-b074-c7ce09b115cc",
   "metadata": {},
   "outputs": [
    {
     "data": {
      "text/plain": [
       "id                                    0\n",
       "name                                 12\n",
       "host_id                               0\n",
       "host_name                             5\n",
       "neighbourhood_group                   0\n",
       "neighbourhood                         0\n",
       "latitude                              0\n",
       "longitude                             0\n",
       "room_type                             0\n",
       "price                                 0\n",
       "minimum_nights                        0\n",
       "number_of_reviews                     0\n",
       "last_review                       10304\n",
       "reviews_per_month                 10304\n",
       "calculated_host_listings_count        0\n",
       "availability_365                      0\n",
       "number_of_reviews_ltm                 0\n",
       "license                           42930\n",
       "dtype: int64"
      ]
     },
     "execution_count": 18,
     "metadata": {},
     "output_type": "execute_result"
    }
   ],
   "source": [
    "# Checking for missing values\n",
    "\n",
    "df.isna().sum()"
   ]
  },
  {
   "cell_type": "code",
   "execution_count": 95,
   "id": "2dbaa832-fdcb-4d9f-841c-f7f9b0c18f1e",
   "metadata": {},
   "outputs": [],
   "source": [
    "# \"last_review\" and \"reviews_per_month\" have missing values that are more than 5%.\n",
    "# I am not removing them but filling them with 0\n",
    "\n",
    "df['last_review'].fillna(0, inplace=True)\n",
    "df['reviews_per_month'].fillna(0, inplace=True)"
   ]
  },
  {
   "cell_type": "code",
   "execution_count": 96,
   "id": "c87bc676-78a8-436c-bdb9-9af72086e948",
   "metadata": {},
   "outputs": [
    {
     "data": {
      "text/plain": [
       "id                                    0\n",
       "name                                 12\n",
       "host_id                               0\n",
       "host_name                             5\n",
       "neighbourhood_group                   0\n",
       "neighbourhood                         0\n",
       "latitude                              0\n",
       "longitude                             0\n",
       "room_type                             0\n",
       "price                                 0\n",
       "minimum_nights                        0\n",
       "number_of_reviews                     0\n",
       "last_review                           0\n",
       "reviews_per_month                     0\n",
       "calculated_host_listings_count        0\n",
       "availability_365                      0\n",
       "number_of_reviews_ltm                 0\n",
       "license                           42930\n",
       "dtype: int64"
      ]
     },
     "execution_count": 96,
     "metadata": {},
     "output_type": "execute_result"
    }
   ],
   "source": [
    "df.isna().sum()"
   ]
  },
  {
   "cell_type": "code",
   "execution_count": 97,
   "id": "e7b545ba-b0e5-45b5-bc52-d0030e3a682f",
   "metadata": {},
   "outputs": [],
   "source": [
    "# Dropping column \"host_name\" and \"host_id\" due to PII reasons\n",
    "\n",
    "df.drop('host_name', axis=1, inplace=True)\n",
    "df.drop('host_id', axis=1, inplace=True)"
   ]
  },
  {
   "cell_type": "code",
   "execution_count": 98,
   "id": "33c2b435-456a-494e-8640-6472eb66c429",
   "metadata": {},
   "outputs": [],
   "source": [
    "# Dropping column \"license\" as the whole column is missing values\n",
    "\n",
    "df.drop('license', axis=1, inplace=True)"
   ]
  },
  {
   "cell_type": "code",
   "execution_count": 99,
   "id": "84e864da-0c56-4be9-906a-0e2ed1d8a41b",
   "metadata": {},
   "outputs": [
    {
     "data": {
      "text/plain": [
       "(42931, 15)"
      ]
     },
     "execution_count": 99,
     "metadata": {},
     "output_type": "execute_result"
    }
   ],
   "source": [
    "df.shape"
   ]
  },
  {
   "cell_type": "code",
   "execution_count": 100,
   "id": "cd5dee9b-2d71-4c6e-86e0-828be18b173b",
   "metadata": {},
   "outputs": [
    {
     "data": {
      "text/plain": [
       "0"
      ]
     },
     "execution_count": 100,
     "metadata": {},
     "output_type": "execute_result"
    }
   ],
   "source": [
    "# Checking for duplicates\n",
    "\n",
    "df.duplicated().sum()"
   ]
  },
  {
   "cell_type": "markdown",
   "id": "49bc5231-dd0b-4c80-b744-3331f06686a5",
   "metadata": {},
   "source": [
    "##### No duplicates found!"
   ]
  },
  {
   "cell_type": "code",
   "execution_count": 101,
   "id": "8d2d3fba-abfe-4e96-9fd8-6f606447b3bc",
   "metadata": {},
   "outputs": [
    {
     "name": "stdout",
     "output_type": "stream",
     "text": [
      "name\n",
      "last_review\n"
     ]
    }
   ],
   "source": [
    "# Checking for mixed data types\n",
    "\n",
    "for col in df.columns.tolist():\n",
    "      weird = (df[[col]].applymap(type) != df[[col]].iloc[0].apply(type)).any(axis = 1)\n",
    "      if len (df[weird]) > 0:\n",
    "        print (col)"
   ]
  },
  {
   "cell_type": "code",
   "execution_count": 107,
   "id": "dce03bc2-1ce8-457c-9141-6d582c1c3d6f",
   "metadata": {},
   "outputs": [],
   "source": [
    "# Changing data types of name and last_review columns\n",
    "\n",
    "df['name'] = df['name'].astype(str)\n",
    "df['last_review'] = df['last_review'].astype(str)"
   ]
  },
  {
   "cell_type": "code",
   "execution_count": 103,
   "id": "7b87674a-fd6e-45aa-9fde-d2fd3eeb70b9",
   "metadata": {},
   "outputs": [],
   "source": [
    "# Checking for mixed data types\n",
    "\n",
    "for col in df.columns.tolist():\n",
    "      weird = (df[[col]].applymap(type) != df[[col]].iloc[0].apply(type)).any(axis = 1)\n",
    "      if len (df[weird]) > 0:\n",
    "        print (col)"
   ]
  },
  {
   "cell_type": "code",
   "execution_count": 104,
   "id": "48cbd260-ace8-4802-a9df-64f19a289a5d",
   "metadata": {},
   "outputs": [
    {
     "data": {
      "text/plain": [
       "Index(['id', 'name', 'neighbourhood_group', 'neighbourhood', 'latitude',\n",
       "       'longitude', 'room_type', 'price', 'minimum_nights',\n",
       "       'number_of_reviews', 'last_review', 'reviews_per_month',\n",
       "       'calculated_host_listings_count', 'availability_365',\n",
       "       'number_of_reviews_ltm'],\n",
       "      dtype='object')"
      ]
     },
     "execution_count": 104,
     "metadata": {},
     "output_type": "execute_result"
    }
   ],
   "source": [
    "df.columns"
   ]
  },
  {
   "cell_type": "code",
   "execution_count": 105,
   "id": "d4ebb6d6-b5f7-4693-9697-2e844e3e8ae7",
   "metadata": {},
   "outputs": [],
   "source": [
    "# Renaming columns\n",
    "\n",
    "df_1 = df.rename(columns={'id':'ID',\n",
    "                          'name':'Name',\n",
    "                          'neighbourhood_group':'Neighbourhood Group',\n",
    "                          'neighbourhood':'Neighbourhood',\n",
    "                          'latitude':'Latitude',\n",
    "                          'longitude':'Longitude',\n",
    "                          'room_type':'Room Type',\n",
    "                          'price':'Price', \n",
    "                          'minimum_nights':'Min Nights',\n",
    "                          'number_of_reviews':'No of Reviews',\n",
    "                          'last_review':'Last Review',\n",
    "                          'reviews_per_month':'Reviews Per Month',\n",
    "                          'calculated_host_listings_count':'Calculated Host Listings', \n",
    "                          'availability_365':'Availability',\n",
    "                          'number_of_reviews_ltm':'No of Reviews LTM'})"
   ]
  },
  {
   "cell_type": "markdown",
   "id": "1e670d56-6a48-48f2-9801-8b771121e607",
   "metadata": {},
   "source": [
    "### 3. Data Exploration"
   ]
  },
  {
   "cell_type": "code",
   "execution_count": 108,
   "id": "aa4f7b95-0d13-48cc-b321-724b3cfd0c36",
   "metadata": {},
   "outputs": [
    {
     "data": {
      "text/plain": [
       "array([[<Axes: title={'center': 'ID'}>,\n",
       "        <Axes: title={'center': 'Latitude'}>,\n",
       "        <Axes: title={'center': 'Longitude'}>],\n",
       "       [<Axes: title={'center': 'Price'}>,\n",
       "        <Axes: title={'center': 'Min Nights'}>,\n",
       "        <Axes: title={'center': 'No of Reviews'}>],\n",
       "       [<Axes: title={'center': 'Reviews Per Month'}>,\n",
       "        <Axes: title={'center': 'Calculated Host Listings'}>,\n",
       "        <Axes: title={'center': 'Availability'}>],\n",
       "       [<Axes: title={'center': 'No of Reviews LTM'}>, <Axes: >,\n",
       "        <Axes: >]], dtype=object)"
      ]
     },
     "execution_count": 108,
     "metadata": {},
     "output_type": "execute_result"
    },
    {
     "data": {
      "image/png": "[encoded data removed]",
      "text/plain": [
       "<Figure size 2000x1000 with 12 Axes>"
      ]
     },
     "metadata": {},
     "output_type": "display_data"
    }
   ],
   "source": [
    "# Checking for outliers\n",
    "\n",
    "df_1.hist(figsize=(20,10), bins=50)"
   ]
  },
  {
   "cell_type": "markdown",
   "id": "2e5eb3d3-e4b2-44c4-9623-159b89bfc0b5",
   "metadata": {},
   "source": [
    "#### Exploring the Price column"
   ]
  },
  {
   "cell_type": "code",
   "execution_count": 132,
   "id": "2db0a885-bda7-4487-8715-c02966320f33",
   "metadata": {},
   "outputs": [
    {
     "data": {
      "text/plain": [
       "<Axes: >"
      ]
     },
     "execution_count": 132,
     "metadata": {},
     "output_type": "execute_result"
    },
    {
     "data": {
      "image/png": "[encoded data removed]",
      "text/plain": [
       "<Figure size 2000x1000 with 1 Axes>"
      ]
     },
     "metadata": {},
     "output_type": "display_data"
    }
   ],
   "source": [
    "df_1['Price'].hist(figsize=(20,10), bins=20)"
   ]
  },
  {
   "cell_type": "code",
   "execution_count": 140,
   "id": "d3a190d1-8719-4b97-8179-f8fb564533c5",
   "metadata": {},
   "outputs": [
    {
     "data": {
      "text/html": [
       "<div>\n",
       "<style scoped>\n",
       "    .dataframe tbody tr th:only-of-type {\n",
       "        vertical-align: middle;\n",
       "    }\n",
       "\n",
       "    .dataframe tbody tr th {\n",
       "        vertical-align: top;\n",
       "    }\n",
       "\n",
       "    .dataframe thead th {\n",
       "        text-align: right;\n",
       "    }\n",
       "</style>\n",
       "<table border=\"1\" class=\"dataframe\">\n",
       "  <thead>\n",
       "    <tr style=\"text-align: right;\">\n",
       "      <th></th>\n",
       "      <th>ID</th>\n",
       "      <th>Name</th>\n",
       "      <th>Neighbourhood Group</th>\n",
       "      <th>Neighbourhood</th>\n",
       "      <th>Latitude</th>\n",
       "      <th>Longitude</th>\n",
       "      <th>Room Type</th>\n",
       "      <th>Price</th>\n",
       "      <th>Min Nights</th>\n",
       "      <th>No of Reviews</th>\n",
       "      <th>Last Review</th>\n",
       "      <th>Reviews Per Month</th>\n",
       "      <th>Calculated Host Listings</th>\n",
       "      <th>Availability</th>\n",
       "      <th>No of Reviews LTM</th>\n",
       "    </tr>\n",
       "  </thead>\n",
       "  <tbody>\n",
       "    <tr>\n",
       "      <th>19977</th>\n",
       "      <td>40560656</td>\n",
       "      <td>The Hoxton, Williamsburg - Cosy Room</td>\n",
       "      <td>Brooklyn</td>\n",
       "      <td>Williamsburg</td>\n",
       "      <td>40.720960</td>\n",
       "      <td>-73.958600</td>\n",
       "      <td>Hotel room</td>\n",
       "      <td>0</td>\n",
       "      <td>1</td>\n",
       "      <td>83</td>\n",
       "      <td>2023-02-17</td>\n",
       "      <td>1.98</td>\n",
       "      <td>1</td>\n",
       "      <td>0</td>\n",
       "      <td>20</td>\n",
       "    </tr>\n",
       "    <tr>\n",
       "      <th>20459</th>\n",
       "      <td>41740615</td>\n",
       "      <td>The James New York - NoMad</td>\n",
       "      <td>Manhattan</td>\n",
       "      <td>Midtown</td>\n",
       "      <td>40.744590</td>\n",
       "      <td>-73.985740</td>\n",
       "      <td>Hotel room</td>\n",
       "      <td>0</td>\n",
       "      <td>1</td>\n",
       "      <td>48</td>\n",
       "      <td>2022-10-10</td>\n",
       "      <td>1.18</td>\n",
       "      <td>1</td>\n",
       "      <td>0</td>\n",
       "      <td>11</td>\n",
       "    </tr>\n",
       "    <tr>\n",
       "      <th>20460</th>\n",
       "      <td>41740622</td>\n",
       "      <td>Gardens Suites Hotel by Affinia</td>\n",
       "      <td>Manhattan</td>\n",
       "      <td>Upper East Side</td>\n",
       "      <td>40.764420</td>\n",
       "      <td>-73.963030</td>\n",
       "      <td>Hotel room</td>\n",
       "      <td>0</td>\n",
       "      <td>1</td>\n",
       "      <td>5</td>\n",
       "      <td>2022-10-01</td>\n",
       "      <td>0.15</td>\n",
       "      <td>1</td>\n",
       "      <td>0</td>\n",
       "      <td>2</td>\n",
       "    </tr>\n",
       "    <tr>\n",
       "      <th>20542</th>\n",
       "      <td>41792753</td>\n",
       "      <td>Mint House At 70 Pine</td>\n",
       "      <td>Manhattan</td>\n",
       "      <td>Financial District</td>\n",
       "      <td>40.706510</td>\n",
       "      <td>-74.007770</td>\n",
       "      <td>Hotel room</td>\n",
       "      <td>0</td>\n",
       "      <td>1</td>\n",
       "      <td>619</td>\n",
       "      <td>2023-01-02</td>\n",
       "      <td>10.81</td>\n",
       "      <td>1</td>\n",
       "      <td>0</td>\n",
       "      <td>57</td>\n",
       "    </tr>\n",
       "    <tr>\n",
       "      <th>20718</th>\n",
       "      <td>42279171</td>\n",
       "      <td>Leon Hotel LES</td>\n",
       "      <td>Manhattan</td>\n",
       "      <td>Chinatown</td>\n",
       "      <td>40.716100</td>\n",
       "      <td>-73.995180</td>\n",
       "      <td>Hotel room</td>\n",
       "      <td>0</td>\n",
       "      <td>1</td>\n",
       "      <td>348</td>\n",
       "      <td>2023-02-13</td>\n",
       "      <td>8.05</td>\n",
       "      <td>1</td>\n",
       "      <td>0</td>\n",
       "      <td>64</td>\n",
       "    </tr>\n",
       "    <tr>\n",
       "      <th>20790</th>\n",
       "      <td>42065545</td>\n",
       "      <td>Carvi Hotel NYC</td>\n",
       "      <td>Manhattan</td>\n",
       "      <td>Midtown</td>\n",
       "      <td>40.759170</td>\n",
       "      <td>-73.969260</td>\n",
       "      <td>Hotel room</td>\n",
       "      <td>0</td>\n",
       "      <td>30</td>\n",
       "      <td>0</td>\n",
       "      <td>0</td>\n",
       "      <td>0.00</td>\n",
       "      <td>1</td>\n",
       "      <td>0</td>\n",
       "      <td>0</td>\n",
       "    </tr>\n",
       "    <tr>\n",
       "      <th>20791</th>\n",
       "      <td>42065547</td>\n",
       "      <td>Hotel Five44</td>\n",
       "      <td>Manhattan</td>\n",
       "      <td>Hell's Kitchen</td>\n",
       "      <td>40.764040</td>\n",
       "      <td>-73.994780</td>\n",
       "      <td>Hotel room</td>\n",
       "      <td>0</td>\n",
       "      <td>30</td>\n",
       "      <td>43</td>\n",
       "      <td>2023-02-05</td>\n",
       "      <td>1.44</td>\n",
       "      <td>1</td>\n",
       "      <td>0</td>\n",
       "      <td>16</td>\n",
       "    </tr>\n",
       "    <tr>\n",
       "      <th>20797</th>\n",
       "      <td>42065563</td>\n",
       "      <td>Opera House Hotel</td>\n",
       "      <td>Bronx</td>\n",
       "      <td>Mott Haven</td>\n",
       "      <td>40.815130</td>\n",
       "      <td>-73.916020</td>\n",
       "      <td>Hotel room</td>\n",
       "      <td>0</td>\n",
       "      <td>30</td>\n",
       "      <td>0</td>\n",
       "      <td>0</td>\n",
       "      <td>0.00</td>\n",
       "      <td>1</td>\n",
       "      <td>0</td>\n",
       "      <td>0</td>\n",
       "    </tr>\n",
       "    <tr>\n",
       "      <th>20798</th>\n",
       "      <td>42065564</td>\n",
       "      <td>The Wall Street Inn</td>\n",
       "      <td>Manhattan</td>\n",
       "      <td>Financial District</td>\n",
       "      <td>40.704620</td>\n",
       "      <td>-74.010270</td>\n",
       "      <td>Hotel room</td>\n",
       "      <td>0</td>\n",
       "      <td>1</td>\n",
       "      <td>51</td>\n",
       "      <td>2023-02-19</td>\n",
       "      <td>1.59</td>\n",
       "      <td>9</td>\n",
       "      <td>0</td>\n",
       "      <td>21</td>\n",
       "    </tr>\n",
       "    <tr>\n",
       "      <th>20823</th>\n",
       "      <td>42228997</td>\n",
       "      <td>Sister City New York</td>\n",
       "      <td>Manhattan</td>\n",
       "      <td>Lower East Side</td>\n",
       "      <td>40.721860</td>\n",
       "      <td>-73.992780</td>\n",
       "      <td>Hotel room</td>\n",
       "      <td>0</td>\n",
       "      <td>30</td>\n",
       "      <td>0</td>\n",
       "      <td>0</td>\n",
       "      <td>0.00</td>\n",
       "      <td>1</td>\n",
       "      <td>0</td>\n",
       "      <td>0</td>\n",
       "    </tr>\n",
       "    <tr>\n",
       "      <th>20831</th>\n",
       "      <td>42384501</td>\n",
       "      <td>Hotel Hayden</td>\n",
       "      <td>Manhattan</td>\n",
       "      <td>Chelsea</td>\n",
       "      <td>40.747930</td>\n",
       "      <td>-73.991170</td>\n",
       "      <td>Hotel room</td>\n",
       "      <td>0</td>\n",
       "      <td>1</td>\n",
       "      <td>83</td>\n",
       "      <td>2022-04-17</td>\n",
       "      <td>1.99</td>\n",
       "      <td>1</td>\n",
       "      <td>0</td>\n",
       "      <td>2</td>\n",
       "    </tr>\n",
       "    <tr>\n",
       "      <th>21194</th>\n",
       "      <td>43035720</td>\n",
       "      <td>Executive Hotel LeSoleil New York</td>\n",
       "      <td>Manhattan</td>\n",
       "      <td>Midtown</td>\n",
       "      <td>40.750280</td>\n",
       "      <td>-73.985470</td>\n",
       "      <td>Hotel room</td>\n",
       "      <td>0</td>\n",
       "      <td>30</td>\n",
       "      <td>0</td>\n",
       "      <td>0</td>\n",
       "      <td>0.00</td>\n",
       "      <td>1</td>\n",
       "      <td>0</td>\n",
       "      <td>0</td>\n",
       "    </tr>\n",
       "    <tr>\n",
       "      <th>21313</th>\n",
       "      <td>43078550</td>\n",
       "      <td>The Lex Hotel NYC</td>\n",
       "      <td>Manhattan</td>\n",
       "      <td>Kips Bay</td>\n",
       "      <td>40.740970</td>\n",
       "      <td>-73.983390</td>\n",
       "      <td>Hotel room</td>\n",
       "      <td>0</td>\n",
       "      <td>30</td>\n",
       "      <td>0</td>\n",
       "      <td>0</td>\n",
       "      <td>0.00</td>\n",
       "      <td>1</td>\n",
       "      <td>0</td>\n",
       "      <td>0</td>\n",
       "    </tr>\n",
       "    <tr>\n",
       "      <th>21317</th>\n",
       "      <td>43078552</td>\n",
       "      <td>SIXTY LES</td>\n",
       "      <td>Manhattan</td>\n",
       "      <td>Lower East Side</td>\n",
       "      <td>40.722140</td>\n",
       "      <td>-73.988570</td>\n",
       "      <td>Hotel room</td>\n",
       "      <td>0</td>\n",
       "      <td>1</td>\n",
       "      <td>73</td>\n",
       "      <td>2023-02-09</td>\n",
       "      <td>2.08</td>\n",
       "      <td>1</td>\n",
       "      <td>0</td>\n",
       "      <td>11</td>\n",
       "    </tr>\n",
       "    <tr>\n",
       "      <th>21399</th>\n",
       "      <td>43205598</td>\n",
       "      <td>Wellington Hotel</td>\n",
       "      <td>Manhattan</td>\n",
       "      <td>Midtown</td>\n",
       "      <td>40.764480</td>\n",
       "      <td>-73.980550</td>\n",
       "      <td>Hotel room</td>\n",
       "      <td>0</td>\n",
       "      <td>1</td>\n",
       "      <td>9</td>\n",
       "      <td>2020-12-27</td>\n",
       "      <td>0.31</td>\n",
       "      <td>1</td>\n",
       "      <td>0</td>\n",
       "      <td>0</td>\n",
       "    </tr>\n",
       "    <tr>\n",
       "      <th>21480</th>\n",
       "      <td>43247386</td>\n",
       "      <td>6 Columbus Central Park Hotel</td>\n",
       "      <td>Manhattan</td>\n",
       "      <td>Hell's Kitchen</td>\n",
       "      <td>40.767560</td>\n",
       "      <td>-73.983120</td>\n",
       "      <td>Hotel room</td>\n",
       "      <td>0</td>\n",
       "      <td>1</td>\n",
       "      <td>24</td>\n",
       "      <td>2023-02-12</td>\n",
       "      <td>1.13</td>\n",
       "      <td>1</td>\n",
       "      <td>0</td>\n",
       "      <td>12</td>\n",
       "    </tr>\n",
       "    <tr>\n",
       "      <th>21482</th>\n",
       "      <td>43247472</td>\n",
       "      <td>Hotel 57</td>\n",
       "      <td>Manhattan</td>\n",
       "      <td>Midtown</td>\n",
       "      <td>40.760850</td>\n",
       "      <td>-73.969380</td>\n",
       "      <td>Hotel room</td>\n",
       "      <td>0</td>\n",
       "      <td>30</td>\n",
       "      <td>59</td>\n",
       "      <td>2022-12-26</td>\n",
       "      <td>1.63</td>\n",
       "      <td>1</td>\n",
       "      <td>0</td>\n",
       "      <td>33</td>\n",
       "    </tr>\n",
       "    <tr>\n",
       "      <th>21484</th>\n",
       "      <td>43247631</td>\n",
       "      <td>Belvedere Hotel</td>\n",
       "      <td>Manhattan</td>\n",
       "      <td>Hell's Kitchen</td>\n",
       "      <td>40.761750</td>\n",
       "      <td>-73.988200</td>\n",
       "      <td>Hotel room</td>\n",
       "      <td>0</td>\n",
       "      <td>30</td>\n",
       "      <td>0</td>\n",
       "      <td>0</td>\n",
       "      <td>0.00</td>\n",
       "      <td>1</td>\n",
       "      <td>0</td>\n",
       "      <td>0</td>\n",
       "    </tr>\n",
       "    <tr>\n",
       "      <th>22003</th>\n",
       "      <td>44567521</td>\n",
       "      <td>The Standard, East Village</td>\n",
       "      <td>Manhattan</td>\n",
       "      <td>East Village</td>\n",
       "      <td>40.727430</td>\n",
       "      <td>-73.991360</td>\n",
       "      <td>Hotel room</td>\n",
       "      <td>0</td>\n",
       "      <td>1</td>\n",
       "      <td>8</td>\n",
       "      <td>2021-09-03</td>\n",
       "      <td>0.30</td>\n",
       "      <td>1</td>\n",
       "      <td>0</td>\n",
       "      <td>0</td>\n",
       "    </tr>\n",
       "    <tr>\n",
       "      <th>22694</th>\n",
       "      <td>46059074</td>\n",
       "      <td>CITIZENM NEW YORK TIMES SQUARE HOTEL</td>\n",
       "      <td>Manhattan</td>\n",
       "      <td>Theater District</td>\n",
       "      <td>40.762368</td>\n",
       "      <td>-73.985676</td>\n",
       "      <td>Hotel room</td>\n",
       "      <td>0</td>\n",
       "      <td>1</td>\n",
       "      <td>163</td>\n",
       "      <td>2023-02-19</td>\n",
       "      <td>6.06</td>\n",
       "      <td>1</td>\n",
       "      <td>0</td>\n",
       "      <td>64</td>\n",
       "    </tr>\n",
       "    <tr>\n",
       "      <th>22751</th>\n",
       "      <td>46087899</td>\n",
       "      <td>The William Vale</td>\n",
       "      <td>Brooklyn</td>\n",
       "      <td>Williamsburg</td>\n",
       "      <td>40.721210</td>\n",
       "      <td>-73.957209</td>\n",
       "      <td>Hotel room</td>\n",
       "      <td>0</td>\n",
       "      <td>1</td>\n",
       "      <td>6</td>\n",
       "      <td>2023-01-29</td>\n",
       "      <td>0.35</td>\n",
       "      <td>1</td>\n",
       "      <td>0</td>\n",
       "      <td>2</td>\n",
       "    </tr>\n",
       "    <tr>\n",
       "      <th>22823</th>\n",
       "      <td>46251446</td>\n",
       "      <td>citizenM New York Bowery hotel</td>\n",
       "      <td>Manhattan</td>\n",
       "      <td>Lower East Side</td>\n",
       "      <td>40.719732</td>\n",
       "      <td>-73.993996</td>\n",
       "      <td>Hotel room</td>\n",
       "      <td>0</td>\n",
       "      <td>1</td>\n",
       "      <td>191</td>\n",
       "      <td>2023-02-20</td>\n",
       "      <td>7.41</td>\n",
       "      <td>1</td>\n",
       "      <td>0</td>\n",
       "      <td>79</td>\n",
       "    </tr>\n",
       "    <tr>\n",
       "      <th>22955</th>\n",
       "      <td>46336133</td>\n",
       "      <td>Equinox Hotel New York</td>\n",
       "      <td>Manhattan</td>\n",
       "      <td>Chelsea</td>\n",
       "      <td>40.755322</td>\n",
       "      <td>-74.001772</td>\n",
       "      <td>Hotel room</td>\n",
       "      <td>0</td>\n",
       "      <td>1</td>\n",
       "      <td>0</td>\n",
       "      <td>0</td>\n",
       "      <td>0.00</td>\n",
       "      <td>1</td>\n",
       "      <td>0</td>\n",
       "      <td>0</td>\n",
       "    </tr>\n",
       "    <tr>\n",
       "      <th>23155</th>\n",
       "      <td>46723973</td>\n",
       "      <td>Ink 48 Hotel</td>\n",
       "      <td>Manhattan</td>\n",
       "      <td>Hell's Kitchen</td>\n",
       "      <td>40.765708</td>\n",
       "      <td>-73.995575</td>\n",
       "      <td>Hotel room</td>\n",
       "      <td>0</td>\n",
       "      <td>1</td>\n",
       "      <td>1</td>\n",
       "      <td>2021-06-13</td>\n",
       "      <td>0.05</td>\n",
       "      <td>1</td>\n",
       "      <td>0</td>\n",
       "      <td>0</td>\n",
       "    </tr>\n",
       "    <tr>\n",
       "      <th>23980</th>\n",
       "      <td>48089897</td>\n",
       "      <td>Condor Hotel</td>\n",
       "      <td>Brooklyn</td>\n",
       "      <td>Bedford-Stuyvesant</td>\n",
       "      <td>40.696787</td>\n",
       "      <td>-73.958005</td>\n",
       "      <td>Hotel room</td>\n",
       "      <td>0</td>\n",
       "      <td>1</td>\n",
       "      <td>0</td>\n",
       "      <td>0</td>\n",
       "      <td>0.00</td>\n",
       "      <td>6</td>\n",
       "      <td>0</td>\n",
       "      <td>0</td>\n",
       "    </tr>\n",
       "    <tr>\n",
       "      <th>24004</th>\n",
       "      <td>48325676</td>\n",
       "      <td>Hotel Beacon</td>\n",
       "      <td>Manhattan</td>\n",
       "      <td>Upper West Side</td>\n",
       "      <td>40.781629</td>\n",
       "      <td>-73.982004</td>\n",
       "      <td>Hotel room</td>\n",
       "      <td>0</td>\n",
       "      <td>1</td>\n",
       "      <td>3</td>\n",
       "      <td>2022-06-05</td>\n",
       "      <td>0.17</td>\n",
       "      <td>1</td>\n",
       "      <td>0</td>\n",
       "      <td>1</td>\n",
       "    </tr>\n",
       "    <tr>\n",
       "      <th>24182</th>\n",
       "      <td>48417136</td>\n",
       "      <td>HGU New York</td>\n",
       "      <td>Manhattan</td>\n",
       "      <td>Midtown</td>\n",
       "      <td>40.746836</td>\n",
       "      <td>-73.982699</td>\n",
       "      <td>Hotel room</td>\n",
       "      <td>0</td>\n",
       "      <td>1</td>\n",
       "      <td>55</td>\n",
       "      <td>2023-01-30</td>\n",
       "      <td>2.47</td>\n",
       "      <td>1</td>\n",
       "      <td>0</td>\n",
       "      <td>15</td>\n",
       "    </tr>\n",
       "  </tbody>\n",
       "</table>\n",
       "</div>"
      ],
      "text/plain": [
       "             ID                                  Name Neighbourhood Group  \\\n",
       "19977  40560656  The Hoxton, Williamsburg - Cosy Room            Brooklyn   \n",
       "20459  41740615            The James New York - NoMad           Manhattan   \n",
       "20460  41740622       Gardens Suites Hotel by Affinia           Manhattan   \n",
       "20542  41792753                 Mint House At 70 Pine           Manhattan   \n",
       "20718  42279171                        Leon Hotel LES           Manhattan   \n",
       "20790  42065545                       Carvi Hotel NYC           Manhattan   \n",
       "20791  42065547                          Hotel Five44           Manhattan   \n",
       "20797  42065563                     Opera House Hotel               Bronx   \n",
       "20798  42065564                   The Wall Street Inn           Manhattan   \n",
       "20823  42228997                  Sister City New York           Manhattan   \n",
       "20831  42384501                          Hotel Hayden           Manhattan   \n",
       "21194  43035720     Executive Hotel LeSoleil New York           Manhattan   \n",
       "21313  43078550                     The Lex Hotel NYC           Manhattan   \n",
       "21317  43078552                             SIXTY LES           Manhattan   \n",
       "21399  43205598                      Wellington Hotel           Manhattan   \n",
       "21480  43247386         6 Columbus Central Park Hotel           Manhattan   \n",
       "21482  43247472                              Hotel 57           Manhattan   \n",
       "21484  43247631                       Belvedere Hotel           Manhattan   \n",
       "22003  44567521            The Standard, East Village           Manhattan   \n",
       "22694  46059074  CITIZENM NEW YORK TIMES SQUARE HOTEL           Manhattan   \n",
       "22751  46087899                      The William Vale            Brooklyn   \n",
       "22823  46251446        citizenM New York Bowery hotel           Manhattan   \n",
       "22955  46336133                Equinox Hotel New York           Manhattan   \n",
       "23155  46723973                          Ink 48 Hotel           Manhattan   \n",
       "23980  48089897                          Condor Hotel            Brooklyn   \n",
       "24004  48325676                          Hotel Beacon           Manhattan   \n",
       "24182  48417136                          HGU New York           Manhattan   \n",
       "\n",
       "            Neighbourhood   Latitude  Longitude   Room Type  Price  \\\n",
       "19977        Williamsburg  40.720960 -73.958600  Hotel room      0   \n",
       "20459             Midtown  40.744590 -73.985740  Hotel room      0   \n",
       "20460     Upper East Side  40.764420 -73.963030  Hotel room      0   \n",
       "20542  Financial District  40.706510 -74.007770  Hotel room      0   \n",
       "20718           Chinatown  40.716100 -73.995180  Hotel room      0   \n",
       "20790             Midtown  40.759170 -73.969260  Hotel room      0   \n",
       "20791      Hell's Kitchen  40.764040 -73.994780  Hotel room      0   \n",
       "20797          Mott Haven  40.815130 -73.916020  Hotel room      0   \n",
       "20798  Financial District  40.704620 -74.010270  Hotel room      0   \n",
       "20823     Lower East Side  40.721860 -73.992780  Hotel room      0   \n",
       "20831             Chelsea  40.747930 -73.991170  Hotel room      0   \n",
       "21194             Midtown  40.750280 -73.985470  Hotel room      0   \n",
       "21313            Kips Bay  40.740970 -73.983390  Hotel room      0   \n",
       "21317     Lower East Side  40.722140 -73.988570  Hotel room      0   \n",
       "21399             Midtown  40.764480 -73.980550  Hotel room      0   \n",
       "21480      Hell's Kitchen  40.767560 -73.983120  Hotel room      0   \n",
       "21482             Midtown  40.760850 -73.969380  Hotel room      0   \n",
       "21484      Hell's Kitchen  40.761750 -73.988200  Hotel room      0   \n",
       "22003        East Village  40.727430 -73.991360  Hotel room      0   \n",
       "22694    Theater District  40.762368 -73.985676  Hotel room      0   \n",
       "22751        Williamsburg  40.721210 -73.957209  Hotel room      0   \n",
       "22823     Lower East Side  40.719732 -73.993996  Hotel room      0   \n",
       "22955             Chelsea  40.755322 -74.001772  Hotel room      0   \n",
       "23155      Hell's Kitchen  40.765708 -73.995575  Hotel room      0   \n",
       "23980  Bedford-Stuyvesant  40.696787 -73.958005  Hotel room      0   \n",
       "24004     Upper West Side  40.781629 -73.982004  Hotel room      0   \n",
       "24182             Midtown  40.746836 -73.982699  Hotel room      0   \n",
       "\n",
       "       Min Nights  No of Reviews Last Review  Reviews Per Month  \\\n",
       "19977           1             83  2023-02-17               1.98   \n",
       "20459           1             48  2022-10-10               1.18   \n",
       "20460           1              5  2022-10-01               0.15   \n",
       "20542           1            619  2023-01-02              10.81   \n",
       "20718           1            348  2023-02-13               8.05   \n",
       "20790          30              0           0               0.00   \n",
       "20791          30             43  2023-02-05               1.44   \n",
       "20797          30              0           0               0.00   \n",
       "20798           1             51  2023-02-19               1.59   \n",
       "20823          30              0           0               0.00   \n",
       "20831           1             83  2022-04-17               1.99   \n",
       "21194          30              0           0               0.00   \n",
       "21313          30              0           0               0.00   \n",
       "21317           1             73  2023-02-09               2.08   \n",
       "21399           1              9  2020-12-27               0.31   \n",
       "21480           1             24  2023-02-12               1.13   \n",
       "21482          30             59  2022-12-26               1.63   \n",
       "21484          30              0           0               0.00   \n",
       "22003           1              8  2021-09-03               0.30   \n",
       "22694           1            163  2023-02-19               6.06   \n",
       "22751           1              6  2023-01-29               0.35   \n",
       "22823           1            191  2023-02-20               7.41   \n",
       "22955           1              0           0               0.00   \n",
       "23155           1              1  2021-06-13               0.05   \n",
       "23980           1              0           0               0.00   \n",
       "24004           1              3  2022-06-05               0.17   \n",
       "24182           1             55  2023-01-30               2.47   \n",
       "\n",
       "       Calculated Host Listings  Availability  No of Reviews LTM  \n",
       "19977                         1             0                 20  \n",
       "20459                         1             0                 11  \n",
       "20460                         1             0                  2  \n",
       "20542                         1             0                 57  \n",
       "20718                         1             0                 64  \n",
       "20790                         1             0                  0  \n",
       "20791                         1             0                 16  \n",
       "20797                         1             0                  0  \n",
       "20798                         9             0                 21  \n",
       "20823                         1             0                  0  \n",
       "20831                         1             0                  2  \n",
       "21194                         1             0                  0  \n",
       "21313                         1             0                  0  \n",
       "21317                         1             0                 11  \n",
       "21399                         1             0                  0  \n",
       "21480                         1             0                 12  \n",
       "21482                         1             0                 33  \n",
       "21484                         1             0                  0  \n",
       "22003                         1             0                  0  \n",
       "22694                         1             0                 64  \n",
       "22751                         1             0                  2  \n",
       "22823                         1             0                 79  \n",
       "22955                         1             0                  0  \n",
       "23155                         1             0                  0  \n",
       "23980                         6             0                  0  \n",
       "24004                         1             0                  1  \n",
       "24182                         1             0                 15  "
      ]
     },
     "execution_count": 140,
     "metadata": {},
     "output_type": "execute_result"
    }
   ],
   "source": [
    "# Checking the 0 values\n",
    "\n",
    "df_1[df_1['Price'] == 0]"
   ]
  },
  {
   "cell_type": "markdown",
   "id": "d3ecdc85-447a-4e16-b38d-6b284fe0a442",
   "metadata": {},
   "source": [
    "##### There must have been some error for these 0 price values and most of them has a lot of values. Therefore I will impute them with the average price"
   ]
  },
  {
   "cell_type": "code",
   "execution_count": 141,
   "id": "8a50b4b5-c649-49b8-8f0f-c5473ff1a317",
   "metadata": {},
   "outputs": [],
   "source": [
    "# Imputing 0 values with average\n",
    "\n",
    "df_1.loc[df_1['Price'] == 0, 'Price'] = 200"
   ]
  },
  {
   "cell_type": "code",
   "execution_count": 142,
   "id": "4854a877-178f-4d27-a1b1-227fbbbcbcf3",
   "metadata": {},
   "outputs": [
    {
     "data": {
      "text/html": [
       "<div>\n",
       "<style scoped>\n",
       "    .dataframe tbody tr th:only-of-type {\n",
       "        vertical-align: middle;\n",
       "    }\n",
       "\n",
       "    .dataframe tbody tr th {\n",
       "        vertical-align: top;\n",
       "    }\n",
       "\n",
       "    .dataframe thead th {\n",
       "        text-align: right;\n",
       "    }\n",
       "</style>\n",
       "<table border=\"1\" class=\"dataframe\">\n",
       "  <thead>\n",
       "    <tr style=\"text-align: right;\">\n",
       "      <th></th>\n",
       "      <th>ID</th>\n",
       "      <th>Name</th>\n",
       "      <th>Neighbourhood Group</th>\n",
       "      <th>Neighbourhood</th>\n",
       "      <th>Latitude</th>\n",
       "      <th>Longitude</th>\n",
       "      <th>Room Type</th>\n",
       "      <th>Price</th>\n",
       "      <th>Min Nights</th>\n",
       "      <th>No of Reviews</th>\n",
       "      <th>Last Review</th>\n",
       "      <th>Reviews Per Month</th>\n",
       "      <th>Calculated Host Listings</th>\n",
       "      <th>Availability</th>\n",
       "      <th>No of Reviews LTM</th>\n",
       "    </tr>\n",
       "  </thead>\n",
       "  <tbody>\n",
       "  </tbody>\n",
       "</table>\n",
       "</div>"
      ],
      "text/plain": [
       "Empty DataFrame\n",
       "Columns: [ID, Name, Neighbourhood Group, Neighbourhood, Latitude, Longitude, Room Type, Price, Min Nights, No of Reviews, Last Review, Reviews Per Month, Calculated Host Listings, Availability, No of Reviews LTM]\n",
       "Index: []"
      ]
     },
     "execution_count": 142,
     "metadata": {},
     "output_type": "execute_result"
    }
   ],
   "source": [
    "# Checking if the imputing was succesfull\n",
    "\n",
    "df_1[df_1['Price'] == 0]"
   ]
  },
  {
   "cell_type": "code",
   "execution_count": 147,
   "id": "683a0ca4-ebd6-466a-8f42-0620181688ea",
   "metadata": {},
   "outputs": [
    {
     "data": {
      "text/plain": [
       "10"
      ]
     },
     "execution_count": 147,
     "metadata": {},
     "output_type": "execute_result"
    }
   ],
   "source": [
    "df_1['Price'].min()"
   ]
  },
  {
   "cell_type": "code",
   "execution_count": 148,
   "id": "5730bec0-8f50-4488-b6bf-04c036580981",
   "metadata": {},
   "outputs": [
    {
     "data": {
      "text/plain": [
       "Text(0.5, 1.0, 'Scatterplot of Prices Below 20000')"
      ]
     },
     "execution_count": 148,
     "metadata": {},
     "output_type": "execute_result"
    },
    {
     "data": {
      "image/png": "[encoded data removed]",
      "text/plain": [
       "<Figure size 1000x600 with 1 Axes>"
      ]
     },
     "metadata": {},
     "output_type": "display_data"
    }
   ],
   "source": [
    "# Creating a scatterplot to check the outliers\n",
    "\n",
    "filtered_df = df_1[df_1['Price'] < 20000]\n",
    "\n",
    "# Plot the scatterplot\n",
    "plt.figure(figsize=(10, 6))\n",
    "plt.scatter(filtered_df.index, filtered_df['Price'], alpha=0.5)\n",
    "\n",
    "# Add labels and title\n",
    "plt.xlabel('Index')\n",
    "plt.ylabel('Price')\n",
    "plt.title('Scatterplot of Prices Below 20000')"
   ]
  },
  {
   "cell_type": "markdown",
   "id": "a00142e6-9ee4-43ee-90f3-bd609121b79f",
   "metadata": {},
   "source": [
    "##### As we can see in the scatterplot, most of the values are concenterated around 1000 and go up until 10000 and the dots above are outliers. Meaning that we need to remove the values above 10000."
   ]
  },
  {
   "cell_type": "code",
   "execution_count": 149,
   "id": "fa3e0004-e858-49e1-ade6-896a1d408d32",
   "metadata": {},
   "outputs": [
    {
     "data": {
      "text/plain": [
       "Price\n",
       "65115    1\n",
       "20500    1\n",
       "19750    1\n",
       "85170    1\n",
       "15000    1\n",
       "99000    1\n",
       "85100    1\n",
       "Name: count, dtype: int64"
      ]
     },
     "execution_count": 149,
     "metadata": {},
     "output_type": "execute_result"
    }
   ],
   "source": [
    "outlier_counts = df_1[df_1['Price'] > 10000]['Price'].value_counts()\n",
    "outlier_counts"
   ]
  },
  {
   "cell_type": "code",
   "execution_count": 150,
   "id": "e136f6e0-35f3-4c1d-9b79-9928319f3f1a",
   "metadata": {},
   "outputs": [],
   "source": [
    "# Removing the outliers in the 'Price'column\n",
    "\n",
    "df_2 = df_1[df_1['Price'] <= 10000]"
   ]
  },
  {
   "cell_type": "code",
   "execution_count": 151,
   "id": "a6fee527-e427-4a93-8bd1-9f5d569d986b",
   "metadata": {},
   "outputs": [
    {
     "data": {
      "text/plain": [
       "10000"
      ]
     },
     "execution_count": 151,
     "metadata": {},
     "output_type": "execute_result"
    }
   ],
   "source": [
    "# Checking if the removal was successfull\n",
    "\n",
    "df_2['Price'].max()"
   ]
  },
  {
   "cell_type": "code",
   "execution_count": 152,
   "id": "46fc99e3-472a-4642-a866-6b5eae7e94dc",
   "metadata": {},
   "outputs": [
    {
     "data": {
      "text/plain": [
       "(42924, 15)"
      ]
     },
     "execution_count": 152,
     "metadata": {},
     "output_type": "execute_result"
    }
   ],
   "source": [
    "df_2.shape"
   ]
  },
  {
   "cell_type": "markdown",
   "id": "db0a63e7-1772-460c-b3dc-7d0982bdf0ff",
   "metadata": {},
   "source": [
    "##### Removal was successful because we removed 7 outliers and the original dataset had 42931 (42931-7=42924)"
   ]
  },
  {
   "cell_type": "markdown",
   "id": "74544256-e16b-4c44-b455-712a3e8f1877",
   "metadata": {},
   "source": [
    "#### Exploring the Min Nights column "
   ]
  },
  {
   "cell_type": "code",
   "execution_count": 153,
   "id": "78523d63-7c24-4533-aafc-7fb620f0cca3",
   "metadata": {},
   "outputs": [
    {
     "data": {
      "text/plain": [
       "<Axes: >"
      ]
     },
     "execution_count": 153,
     "metadata": {},
     "output_type": "execute_result"
    },
    {
     "data": {
      "image/png": "[encoded data removed]",
      "text/plain": [
       "<Figure size 2000x1000 with 1 Axes>"
      ]
     },
     "metadata": {},
     "output_type": "display_data"
    }
   ],
   "source": [
    "df_2['Min Nights'].hist(figsize=(20,10), bins=50)"
   ]
  },
  {
   "cell_type": "code",
   "execution_count": 160,
   "id": "660dcfc4-b172-4431-8f11-ac5e8720f0ed",
   "metadata": {},
   "outputs": [
    {
     "data": {
      "text/plain": [
       "<Axes: ylabel='Min Nights'>"
      ]
     },
     "execution_count": 160,
     "metadata": {},
     "output_type": "execute_result"
    },
    {
     "data": {
      "image/png": "[encoded data removed]",
      "text/plain": [
       "<Figure size 640x480 with 1 Axes>"
      ]
     },
     "metadata": {},
     "output_type": "display_data"
    }
   ],
   "source": [
    "# Creating a scatterplot to check the outliers\n",
    "\n",
    "sns.scatterplot(data=df_2, x=df_2.index, y='Min Nights', alpha=0.5)"
   ]
  },
  {
   "cell_type": "markdown",
   "id": "e8d3ab29-3aa8-4dc3-b94f-05a4614bf261",
   "metadata": {},
   "source": [
    "##### As we can see in the scatterplot, most of the values are concenterated around less than 200 days and go up until 400 with few that are slighty above that. The dots above that are outliers. Meaning that we need to remove the values above 600."
   ]
  },
  {
   "cell_type": "code",
   "execution_count": 161,
   "id": "fae8163b-1ca5-4da1-a74d-f4ba1a91a0e1",
   "metadata": {},
   "outputs": [
    {
     "data": {
      "text/plain": [
       "Min Nights\n",
       "1000    2\n",
       "1124    1\n",
       "1250    1\n",
       "999     1\n",
       "Name: count, dtype: int64"
      ]
     },
     "execution_count": 161,
     "metadata": {},
     "output_type": "execute_result"
    }
   ],
   "source": [
    "outlier_counts = df_2[df_2['Min Nights'] > 600]['Min Nights'].value_counts()\n",
    "outlier_counts"
   ]
  },
  {
   "cell_type": "code",
   "execution_count": 163,
   "id": "fdc9f32e-c445-455e-be31-5aacbeffcf45",
   "metadata": {},
   "outputs": [],
   "source": [
    "# Removing the outliers in the 'Min Nights' column\n",
    "\n",
    "df_3 = df_2[df_2['Min Nights'] <= 600]"
   ]
  },
  {
   "cell_type": "code",
   "execution_count": 164,
   "id": "eea300f6-2de2-48ef-a8cb-fbcc30465bdb",
   "metadata": {},
   "outputs": [
    {
     "data": {
      "text/plain": [
       "500"
      ]
     },
     "execution_count": 164,
     "metadata": {},
     "output_type": "execute_result"
    }
   ],
   "source": [
    "# Checking if the removal was successfull\n",
    "\n",
    "df_3['Min Nights'].max()"
   ]
  },
  {
   "cell_type": "code",
   "execution_count": 165,
   "id": "14841399-3ebd-43cf-8c8d-a9e2cfd669b5",
   "metadata": {},
   "outputs": [
    {
     "data": {
      "text/plain": [
       "(42919, 15)"
      ]
     },
     "execution_count": 165,
     "metadata": {},
     "output_type": "execute_result"
    }
   ],
   "source": [
    "df_3.shape"
   ]
  },
  {
   "cell_type": "markdown",
   "id": "7af4b547-0a2a-432b-aead-87109d50bd76",
   "metadata": {},
   "source": [
    "##### Removal was successful because we removed 5 outliers and the dataset had 42924 rows (42924-5=42919)"
   ]
  },
  {
   "cell_type": "code",
   "execution_count": 166,
   "id": "086c2ad2-a905-4156-ab5b-f50f4fde34ed",
   "metadata": {},
   "outputs": [],
   "source": [
    "# Exporting the dataframe\n",
    "\n",
    "df_3.to_csv('/Users/selcenayranci/Desktop/airbnb_2023_v1.csv', index=False)"
   ]
  },
  {
   "cell_type": "code",
   "execution_count": null,
   "id": "f0bc8a39-239a-4b00-a4d9-09bd8ea7fd99",
   "metadata": {},
   "outputs": [],
   "source": []
  }
 ],
 "metadata": {
  "kernelspec": {
   "display_name": "Python 3 (ipykernel)",
   "language": "python",
   "name": "python3"
  },
  "language_info": {
   "codemirror_mode": {
    "name": "ipython",
    "version": 3
   },
   "file_extension": ".py",
   "mimetype": "text/x-python",
   "name": "python",
   "nbconvert_exporter": "python",
   "pygments_lexer": "ipython3",
   "version": "3.11.7"
  }
 },
 "nbformat": 4,
 "nbformat_minor": 5
}
